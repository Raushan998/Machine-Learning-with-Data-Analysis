{
 "cells": [
  {
   "cell_type": "markdown",
   "metadata": {},
   "source": [
    "# prediction of Bank customers are having on risk"
   ]
  },
  {
   "cell_type": "code",
   "execution_count": 3,
   "metadata": {},
   "outputs": [],
   "source": [
    "import pandas as pd\n",
    "from sklearn.preprocessing import LabelEncoder,OneHotEncoder\n",
    "import keras\n",
    "from keras.models import Sequential\n",
    "from keras.layers import Dense"
   ]
  },
  {
   "cell_type": "markdown",
   "metadata": {},
   "source": [
    "#Importing the dataset"
   ]
  },
  {
   "cell_type": "code",
   "execution_count": 4,
   "metadata": {},
   "outputs": [],
   "source": [
    "data=pd.read_csv('Churn_Modelling.csv')"
   ]
  },
  {
   "cell_type": "code",
   "execution_count": 5,
   "metadata": {},
   "outputs": [
    {
     "data": {
      "text/html": [
       "<div>\n",
       "<style scoped>\n",
       "    .dataframe tbody tr th:only-of-type {\n",
       "        vertical-align: middle;\n",
       "    }\n",
       "\n",
       "    .dataframe tbody tr th {\n",
       "        vertical-align: top;\n",
       "    }\n",
       "\n",
       "    .dataframe thead th {\n",
       "        text-align: right;\n",
       "    }\n",
       "</style>\n",
       "<table border=\"1\" class=\"dataframe\">\n",
       "  <thead>\n",
       "    <tr style=\"text-align: right;\">\n",
       "      <th></th>\n",
       "      <th>RowNumber</th>\n",
       "      <th>CustomerId</th>\n",
       "      <th>Surname</th>\n",
       "      <th>CreditScore</th>\n",
       "      <th>Geography</th>\n",
       "      <th>Gender</th>\n",
       "      <th>Age</th>\n",
       "      <th>Tenure</th>\n",
       "      <th>Balance</th>\n",
       "      <th>NumOfProducts</th>\n",
       "      <th>HasCrCard</th>\n",
       "      <th>IsActiveMember</th>\n",
       "      <th>EstimatedSalary</th>\n",
       "      <th>Exited</th>\n",
       "    </tr>\n",
       "  </thead>\n",
       "  <tbody>\n",
       "    <tr>\n",
       "      <th>0</th>\n",
       "      <td>1</td>\n",
       "      <td>15634602</td>\n",
       "      <td>Hargrave</td>\n",
       "      <td>619</td>\n",
       "      <td>France</td>\n",
       "      <td>Female</td>\n",
       "      <td>42</td>\n",
       "      <td>2</td>\n",
       "      <td>0.00</td>\n",
       "      <td>1</td>\n",
       "      <td>1</td>\n",
       "      <td>1</td>\n",
       "      <td>101348.88</td>\n",
       "      <td>1</td>\n",
       "    </tr>\n",
       "    <tr>\n",
       "      <th>1</th>\n",
       "      <td>2</td>\n",
       "      <td>15647311</td>\n",
       "      <td>Hill</td>\n",
       "      <td>608</td>\n",
       "      <td>Spain</td>\n",
       "      <td>Female</td>\n",
       "      <td>41</td>\n",
       "      <td>1</td>\n",
       "      <td>83807.86</td>\n",
       "      <td>1</td>\n",
       "      <td>0</td>\n",
       "      <td>1</td>\n",
       "      <td>112542.58</td>\n",
       "      <td>0</td>\n",
       "    </tr>\n",
       "    <tr>\n",
       "      <th>2</th>\n",
       "      <td>3</td>\n",
       "      <td>15619304</td>\n",
       "      <td>Onio</td>\n",
       "      <td>502</td>\n",
       "      <td>France</td>\n",
       "      <td>Female</td>\n",
       "      <td>42</td>\n",
       "      <td>8</td>\n",
       "      <td>159660.80</td>\n",
       "      <td>3</td>\n",
       "      <td>1</td>\n",
       "      <td>0</td>\n",
       "      <td>113931.57</td>\n",
       "      <td>1</td>\n",
       "    </tr>\n",
       "    <tr>\n",
       "      <th>3</th>\n",
       "      <td>4</td>\n",
       "      <td>15701354</td>\n",
       "      <td>Boni</td>\n",
       "      <td>699</td>\n",
       "      <td>France</td>\n",
       "      <td>Female</td>\n",
       "      <td>39</td>\n",
       "      <td>1</td>\n",
       "      <td>0.00</td>\n",
       "      <td>2</td>\n",
       "      <td>0</td>\n",
       "      <td>0</td>\n",
       "      <td>93826.63</td>\n",
       "      <td>0</td>\n",
       "    </tr>\n",
       "    <tr>\n",
       "      <th>4</th>\n",
       "      <td>5</td>\n",
       "      <td>15737888</td>\n",
       "      <td>Mitchell</td>\n",
       "      <td>850</td>\n",
       "      <td>Spain</td>\n",
       "      <td>Female</td>\n",
       "      <td>43</td>\n",
       "      <td>2</td>\n",
       "      <td>125510.82</td>\n",
       "      <td>1</td>\n",
       "      <td>1</td>\n",
       "      <td>1</td>\n",
       "      <td>79084.10</td>\n",
       "      <td>0</td>\n",
       "    </tr>\n",
       "  </tbody>\n",
       "</table>\n",
       "</div>"
      ],
      "text/plain": [
       "   RowNumber  CustomerId   Surname  CreditScore Geography  Gender  Age  \\\n",
       "0          1    15634602  Hargrave          619    France  Female   42   \n",
       "1          2    15647311      Hill          608     Spain  Female   41   \n",
       "2          3    15619304      Onio          502    France  Female   42   \n",
       "3          4    15701354      Boni          699    France  Female   39   \n",
       "4          5    15737888  Mitchell          850     Spain  Female   43   \n",
       "\n",
       "   Tenure    Balance  NumOfProducts  HasCrCard  IsActiveMember  \\\n",
       "0       2       0.00              1          1               1   \n",
       "1       1   83807.86              1          0               1   \n",
       "2       8  159660.80              3          1               0   \n",
       "3       1       0.00              2          0               0   \n",
       "4       2  125510.82              1          1               1   \n",
       "\n",
       "   EstimatedSalary  Exited  \n",
       "0        101348.88       1  \n",
       "1        112542.58       0  \n",
       "2        113931.57       1  \n",
       "3         93826.63       0  \n",
       "4         79084.10       0  "
      ]
     },
     "execution_count": 5,
     "metadata": {},
     "output_type": "execute_result"
    }
   ],
   "source": [
    "data.head()"
   ]
  },
  {
   "cell_type": "code",
   "execution_count": 6,
   "metadata": {},
   "outputs": [],
   "source": [
    "X=data.iloc[:,3:13].values\n",
    "Y=data.iloc[:,13].values"
   ]
  },
  {
   "cell_type": "markdown",
   "metadata": {},
   "source": [
    "#Encoding the categorical data"
   ]
  },
  {
   "cell_type": "code",
   "execution_count": 7,
   "metadata": {},
   "outputs": [],
   "source": [
    "label_encoder_X_1=LabelEncoder()\n",
    "X[:,1]=label_encoder_X_1.fit_transform(X[:,1])"
   ]
  },
  {
   "cell_type": "code",
   "execution_count": 8,
   "metadata": {},
   "outputs": [],
   "source": [
    "label_encoder_X_2=LabelEncoder()\n",
    "X[:,2]=label_encoder_X_2.fit_transform(X[:,2])"
   ]
  },
  {
   "cell_type": "code",
   "execution_count": 9,
   "metadata": {},
   "outputs": [
    {
     "name": "stderr",
     "output_type": "stream",
     "text": [
      "/home/raushan/.local/lib/python3.6/site-packages/sklearn/preprocessing/_encoders.py:368: FutureWarning: The handling of integer data will change in version 0.22. Currently, the categories are determined based on the range [0, max(values)], while in the future they will be determined based on the unique values.\n",
      "If you want the future behaviour and silence this warning, you can specify \"categories='auto'\".\n",
      "In case you used a LabelEncoder before this OneHotEncoder to convert the categories to integers, then you can now use the OneHotEncoder directly.\n",
      "  warnings.warn(msg, FutureWarning)\n",
      "/home/raushan/.local/lib/python3.6/site-packages/sklearn/preprocessing/_encoders.py:390: DeprecationWarning: The 'categorical_features' keyword is deprecated in version 0.20 and will be removed in 0.22. You can use the ColumnTransformer instead.\n",
      "  \"use the ColumnTransformer instead.\", DeprecationWarning)\n"
     ]
    }
   ],
   "source": [
    "onehotencoder=OneHotEncoder(categorical_features=[1])\n",
    "X=onehotencoder.fit_transform(X).toarray()\n",
    "X=X[:,1:]"
   ]
  },
  {
   "cell_type": "raw",
   "metadata": {},
   "source": [
    "#Splitting the dataset into training set and test set"
   ]
  },
  {
   "cell_type": "code",
   "execution_count": 10,
   "metadata": {},
   "outputs": [],
   "source": [
    "from sklearn.model_selection import train_test_split\n",
    "X_train,X_test,Y_train,Y_test=train_test_split(X,Y,test_size=0.2,random_state=0)"
   ]
  },
  {
   "cell_type": "markdown",
   "metadata": {},
   "source": [
    "#Feature scaling"
   ]
  },
  {
   "cell_type": "code",
   "execution_count": 13,
   "metadata": {},
   "outputs": [],
   "source": [
    "from sklearn.preprocessing import StandardScaler\n",
    "sc = StandardScaler()\n",
    "X_train = sc.fit_transform(X_train)\n",
    "X_test = sc.transform(X_test)"
   ]
  },
  {
   "cell_type": "markdown",
   "metadata": {},
   "source": [
    "#Initialising the ANN"
   ]
  },
  {
   "cell_type": "code",
   "execution_count": 14,
   "metadata": {},
   "outputs": [],
   "source": [
    "classifier=Sequential()"
   ]
  },
  {
   "cell_type": "markdown",
   "metadata": {},
   "source": [
    "#Adding the input layer and first hidden layer"
   ]
  },
  {
   "cell_type": "code",
   "execution_count": 16,
   "metadata": {},
   "outputs": [
    {
     "name": "stderr",
     "output_type": "stream",
     "text": [
      "/home/raushan/.local/lib/python3.6/site-packages/ipykernel_launcher.py:1: UserWarning: Update your `Dense` call to the Keras 2 API: `Dense(activation=\"relu\", input_dim=11, units=6, kernel_initializer=\"uniform\")`\n",
      "  \"\"\"Entry point for launching an IPython kernel.\n"
     ]
    }
   ],
   "source": [
    "classifier.add(Dense(output_dim=6,init='uniform',activation='relu',input_dim=11))"
   ]
  },
  {
   "cell_type": "markdown",
   "metadata": {},
   "source": [
    "#Adding the second hidden layer"
   ]
  },
  {
   "cell_type": "code",
   "execution_count": 17,
   "metadata": {},
   "outputs": [
    {
     "name": "stderr",
     "output_type": "stream",
     "text": [
      "/home/raushan/.local/lib/python3.6/site-packages/ipykernel_launcher.py:1: UserWarning: Update your `Dense` call to the Keras 2 API: `Dense(activation=\"relu\", units=6, kernel_initializer=\"uniform\")`\n",
      "  \"\"\"Entry point for launching an IPython kernel.\n"
     ]
    }
   ],
   "source": [
    "classifier.add(Dense(output_dim=6,init='uniform',activation='relu'))"
   ]
  },
  {
   "cell_type": "markdown",
   "metadata": {},
   "source": [
    "Adding the output layer"
   ]
  },
  {
   "cell_type": "code",
   "execution_count": 18,
   "metadata": {},
   "outputs": [
    {
     "name": "stderr",
     "output_type": "stream",
     "text": [
      "/home/raushan/.local/lib/python3.6/site-packages/ipykernel_launcher.py:1: UserWarning: Update your `Dense` call to the Keras 2 API: `Dense(activation=\"sigmoid\", units=1, kernel_initializer=\"uniform\")`\n",
      "  \"\"\"Entry point for launching an IPython kernel.\n"
     ]
    }
   ],
   "source": [
    "classifier.add(Dense(output_dim=1,init='uniform',activation='sigmoid'))"
   ]
  },
  {
   "cell_type": "markdown",
   "metadata": {},
   "source": [
    "compiling the ANN"
   ]
  },
  {
   "cell_type": "code",
   "execution_count": 20,
   "metadata": {},
   "outputs": [],
   "source": [
    "classifier.compile(optimizer='Adam',loss='binary_crossentropy',metrics=['accuracy'])"
   ]
  },
  {
   "cell_type": "markdown",
   "metadata": {},
   "source": [
    "Fitting the ANN to training set"
   ]
  },
  {
   "cell_type": "code",
   "execution_count": 22,
   "metadata": {},
   "outputs": [
    {
     "name": "stdout",
     "output_type": "stream",
     "text": [
      "Epoch 1/100\n",
      "8000/8000 [==============================] - 1s 84us/step - loss: 0.5080 - acc: 0.7952\n",
      "Epoch 2/100\n",
      "8000/8000 [==============================] - 1s 69us/step - loss: 0.4195 - acc: 0.8024\n",
      "Epoch 3/100\n",
      "8000/8000 [==============================] - 1s 69us/step - loss: 0.4026 - acc: 0.8277\n",
      "Epoch 4/100\n",
      "8000/8000 [==============================] - 1s 65us/step - loss: 0.3892 - acc: 0.8304\n",
      "Epoch 5/100\n",
      "8000/8000 [==============================] - 1s 66us/step - loss: 0.3817 - acc: 0.8319\n",
      "Epoch 6/100\n",
      "8000/8000 [==============================] - 1s 64us/step - loss: 0.3756 - acc: 0.8365\n",
      "Epoch 7/100\n",
      "8000/8000 [==============================] - 1s 66us/step - loss: 0.3710 - acc: 0.8467\n",
      "Epoch 8/100\n",
      "8000/8000 [==============================] - 1s 65us/step - loss: 0.3679 - acc: 0.8485\n",
      "Epoch 9/100\n",
      "8000/8000 [==============================] - 1s 65us/step - loss: 0.3651 - acc: 0.8521\n",
      "Epoch 10/100\n",
      "8000/8000 [==============================] - 1s 64us/step - loss: 0.3623 - acc: 0.8515\n",
      "Epoch 11/100\n",
      "8000/8000 [==============================] - 1s 64us/step - loss: 0.3613 - acc: 0.8521\n",
      "Epoch 12/100\n",
      "8000/8000 [==============================] - 1s 66us/step - loss: 0.3592 - acc: 0.8541\n",
      "Epoch 13/100\n",
      "8000/8000 [==============================] - 1s 72us/step - loss: 0.3568 - acc: 0.8551\n",
      "Epoch 14/100\n",
      "8000/8000 [==============================] - 1s 81us/step - loss: 0.3566 - acc: 0.8555\n",
      "Epoch 15/100\n",
      "8000/8000 [==============================] - 1s 63us/step - loss: 0.3557 - acc: 0.8571\n",
      "Epoch 16/100\n",
      "8000/8000 [==============================] - 1s 66us/step - loss: 0.3540 - acc: 0.8567\n",
      "Epoch 17/100\n",
      "8000/8000 [==============================] - 1s 65us/step - loss: 0.3525 - acc: 0.8566\n",
      "Epoch 18/100\n",
      "8000/8000 [==============================] - 1s 67us/step - loss: 0.3520 - acc: 0.8581\n",
      "Epoch 19/100\n",
      "8000/8000 [==============================] - 1s 65us/step - loss: 0.3514 - acc: 0.8580\n",
      "Epoch 20/100\n",
      "8000/8000 [==============================] - 1s 67us/step - loss: 0.3514 - acc: 0.8545\n",
      "Epoch 21/100\n",
      "8000/8000 [==============================] - 1s 65us/step - loss: 0.3500 - acc: 0.8574\n",
      "Epoch 22/100\n",
      "8000/8000 [==============================] - 1s 67us/step - loss: 0.3501 - acc: 0.8582\n",
      "Epoch 23/100\n",
      "8000/8000 [==============================] - 1s 64us/step - loss: 0.3493 - acc: 0.8566\n",
      "Epoch 24/100\n",
      "8000/8000 [==============================] - 1s 67us/step - loss: 0.3484 - acc: 0.8587\n",
      "Epoch 25/100\n",
      "8000/8000 [==============================] - 1s 66us/step - loss: 0.3485 - acc: 0.8570\n",
      "Epoch 26/100\n",
      "8000/8000 [==============================] - 1s 67us/step - loss: 0.3482 - acc: 0.8570\n",
      "Epoch 27/100\n",
      "8000/8000 [==============================] - 1s 66us/step - loss: 0.3478 - acc: 0.8580\n",
      "Epoch 28/100\n",
      "8000/8000 [==============================] - 1s 65us/step - loss: 0.3471 - acc: 0.8571\n",
      "Epoch 29/100\n",
      "8000/8000 [==============================] - 1s 67us/step - loss: 0.3467 - acc: 0.8571\n",
      "Epoch 30/100\n",
      "8000/8000 [==============================] - 1s 66us/step - loss: 0.3467 - acc: 0.8566\n",
      "Epoch 31/100\n",
      "8000/8000 [==============================] - 1s 65us/step - loss: 0.3466 - acc: 0.8570\n",
      "Epoch 32/100\n",
      "8000/8000 [==============================] - 1s 66us/step - loss: 0.3464 - acc: 0.8572\n",
      "Epoch 33/100\n",
      "8000/8000 [==============================] - 1s 66us/step - loss: 0.3454 - acc: 0.8592\n",
      "Epoch 34/100\n",
      "8000/8000 [==============================] - 1s 67us/step - loss: 0.3456 - acc: 0.8580\n",
      "Epoch 35/100\n",
      "8000/8000 [==============================] - 1s 66us/step - loss: 0.3456 - acc: 0.8586\n",
      "Epoch 36/100\n",
      "8000/8000 [==============================] - 1s 65us/step - loss: 0.3450 - acc: 0.8587\n",
      "Epoch 37/100\n",
      "8000/8000 [==============================] - 1s 65us/step - loss: 0.3452 - acc: 0.8596\n",
      "Epoch 38/100\n",
      "8000/8000 [==============================] - 1s 151us/step - loss: 0.3450 - acc: 0.8572\n",
      "Epoch 39/100\n",
      "8000/8000 [==============================] - 1s 152us/step - loss: 0.3449 - acc: 0.8589\n",
      "Epoch 40/100\n",
      "8000/8000 [==============================] - 1s 152us/step - loss: 0.3443 - acc: 0.8587\n",
      "Epoch 41/100\n",
      "8000/8000 [==============================] - 1s 154us/step - loss: 0.3429 - acc: 0.8599\n",
      "Epoch 42/100\n",
      "8000/8000 [==============================] - 1s 79us/step - loss: 0.3430 - acc: 0.8592\n",
      "Epoch 43/100\n",
      "8000/8000 [==============================] - 1s 71us/step - loss: 0.3427 - acc: 0.8579\n",
      "Epoch 44/100\n",
      "8000/8000 [==============================] - 1s 67us/step - loss: 0.3411 - acc: 0.8594\n",
      "Epoch 45/100\n",
      "8000/8000 [==============================] - 1s 65us/step - loss: 0.3413 - acc: 0.8581\n",
      "Epoch 46/100\n",
      "8000/8000 [==============================] - 1s 67us/step - loss: 0.3414 - acc: 0.8602\n",
      "Epoch 47/100\n",
      "8000/8000 [==============================] - 1s 65us/step - loss: 0.3414 - acc: 0.8589\n",
      "Epoch 48/100\n",
      "8000/8000 [==============================] - 1s 70us/step - loss: 0.3405 - acc: 0.8601\n",
      "Epoch 49/100\n",
      "8000/8000 [==============================] - 1s 103us/step - loss: 0.3409 - acc: 0.8630\n",
      "Epoch 50/100\n",
      "8000/8000 [==============================] - 1s 154us/step - loss: 0.3418 - acc: 0.8592\n",
      "Epoch 51/100\n",
      "8000/8000 [==============================] - 1s 165us/step - loss: 0.3401 - acc: 0.8599\n",
      "Epoch 52/100\n",
      "8000/8000 [==============================] - 1s 111us/step - loss: 0.3410 - acc: 0.8616\n",
      "Epoch 53/100\n",
      "8000/8000 [==============================] - 1s 102us/step - loss: 0.3399 - acc: 0.8614\n",
      "Epoch 54/100\n",
      "8000/8000 [==============================] - 1s 92us/step - loss: 0.3403 - acc: 0.8619\n",
      "Epoch 55/100\n",
      "8000/8000 [==============================] - 1s 79us/step - loss: 0.3398 - acc: 0.8611\n",
      "Epoch 56/100\n",
      "8000/8000 [==============================] - 0s 62us/step - loss: 0.3402 - acc: 0.8614\n",
      "Epoch 57/100\n",
      "8000/8000 [==============================] - 1s 74us/step - loss: 0.3395 - acc: 0.8602\n",
      "Epoch 58/100\n",
      "8000/8000 [==============================] - 1s 72us/step - loss: 0.3397 - acc: 0.8606\n",
      "Epoch 59/100\n",
      "8000/8000 [==============================] - 1s 74us/step - loss: 0.3400 - acc: 0.8611\n",
      "Epoch 60/100\n",
      "8000/8000 [==============================] - 1s 75us/step - loss: 0.3403 - acc: 0.8614\n",
      "Epoch 61/100\n",
      "8000/8000 [==============================] - 1s 92us/step - loss: 0.3393 - acc: 0.8601\n",
      "Epoch 62/100\n",
      "8000/8000 [==============================] - 1s 87us/step - loss: 0.3393 - acc: 0.8610\n",
      "Epoch 63/100\n",
      "8000/8000 [==============================] - 1s 81us/step - loss: 0.3385 - acc: 0.8615\n",
      "Epoch 64/100\n",
      "8000/8000 [==============================] - 1s 97us/step - loss: 0.3392 - acc: 0.8610\n",
      "Epoch 65/100\n",
      "8000/8000 [==============================] - 1s 71us/step - loss: 0.3387 - acc: 0.8606\n",
      "Epoch 66/100\n",
      "8000/8000 [==============================] - 1s 83us/step - loss: 0.3399 - acc: 0.8604\n",
      "Epoch 67/100\n",
      "8000/8000 [==============================] - 1s 81us/step - loss: 0.3391 - acc: 0.8621\n",
      "Epoch 68/100\n",
      "8000/8000 [==============================] - 1s 73us/step - loss: 0.3388 - acc: 0.8632\n",
      "Epoch 69/100\n",
      "8000/8000 [==============================] - 1s 68us/step - loss: 0.3385 - acc: 0.8619\n",
      "Epoch 70/100\n",
      "8000/8000 [==============================] - 1s 68us/step - loss: 0.3381 - acc: 0.8615\n",
      "Epoch 71/100\n",
      "8000/8000 [==============================] - 1s 76us/step - loss: 0.3387 - acc: 0.8587\n",
      "Epoch 72/100\n",
      "8000/8000 [==============================] - 1s 150us/step - loss: 0.3380 - acc: 0.8617\n",
      "Epoch 73/100\n",
      "8000/8000 [==============================] - 1s 149us/step - loss: 0.3390 - acc: 0.8619\n",
      "Epoch 74/100\n",
      "8000/8000 [==============================] - 1s 143us/step - loss: 0.3379 - acc: 0.8611\n",
      "Epoch 75/100\n",
      "8000/8000 [==============================] - 1s 91us/step - loss: 0.3388 - acc: 0.8601\n",
      "Epoch 76/100\n",
      "8000/8000 [==============================] - 1s 65us/step - loss: 0.3376 - acc: 0.8626\n",
      "Epoch 77/100\n",
      "8000/8000 [==============================] - 1s 63us/step - loss: 0.3382 - acc: 0.8589\n",
      "Epoch 78/100\n",
      "8000/8000 [==============================] - 1s 65us/step - loss: 0.3383 - acc: 0.8614\n",
      "Epoch 79/100\n",
      "8000/8000 [==============================] - 1s 67us/step - loss: 0.3388 - acc: 0.8619\n",
      "Epoch 80/100\n",
      "8000/8000 [==============================] - 1s 94us/step - loss: 0.3377 - acc: 0.8627\n",
      "Epoch 81/100\n",
      "8000/8000 [==============================] - 1s 156us/step - loss: 0.3383 - acc: 0.8625\n",
      "Epoch 82/100\n"
     ]
    },
    {
     "name": "stdout",
     "output_type": "stream",
     "text": [
      "8000/8000 [==============================] - 1s 144us/step - loss: 0.3375 - acc: 0.8624\n",
      "Epoch 83/100\n",
      "8000/8000 [==============================] - 1s 88us/step - loss: 0.3379 - acc: 0.8610\n",
      "Epoch 84/100\n",
      "8000/8000 [==============================] - 1s 97us/step - loss: 0.3376 - acc: 0.8611\n",
      "Epoch 85/100\n",
      "8000/8000 [==============================] - 1s 74us/step - loss: 0.3382 - acc: 0.8600: 0s - loss: 0.3414 - acc: 0.\n",
      "Epoch 86/100\n",
      "8000/8000 [==============================] - 0s 62us/step - loss: 0.3376 - acc: 0.8610\n",
      "Epoch 87/100\n",
      "8000/8000 [==============================] - 1s 66us/step - loss: 0.3382 - acc: 0.8607\n",
      "Epoch 88/100\n",
      "8000/8000 [==============================] - 1s 66us/step - loss: 0.3377 - acc: 0.8595\n",
      "Epoch 89/100\n",
      "8000/8000 [==============================] - 1s 63us/step - loss: 0.3381 - acc: 0.8621\n",
      "Epoch 90/100\n",
      "8000/8000 [==============================] - 1s 144us/step - loss: 0.3371 - acc: 0.8625\n",
      "Epoch 91/100\n",
      "8000/8000 [==============================] - 1s 147us/step - loss: 0.3371 - acc: 0.8621\n",
      "Epoch 92/100\n",
      "8000/8000 [==============================] - 1s 94us/step - loss: 0.3370 - acc: 0.8635\n",
      "Epoch 93/100\n",
      "8000/8000 [==============================] - 1s 63us/step - loss: 0.3377 - acc: 0.8601\n",
      "Epoch 94/100\n",
      "8000/8000 [==============================] - 1s 63us/step - loss: 0.3377 - acc: 0.8617\n",
      "Epoch 95/100\n",
      "8000/8000 [==============================] - 1s 65us/step - loss: 0.3374 - acc: 0.8594\n",
      "Epoch 96/100\n",
      "8000/8000 [==============================] - 1s 63us/step - loss: 0.3378 - acc: 0.8624\n",
      "Epoch 97/100\n",
      "8000/8000 [==============================] - 0s 62us/step - loss: 0.3371 - acc: 0.8609\n",
      "Epoch 98/100\n",
      "8000/8000 [==============================] - 1s 119us/step - loss: 0.3372 - acc: 0.8622\n",
      "Epoch 99/100\n",
      "8000/8000 [==============================] - 1s 145us/step - loss: 0.3373 - acc: 0.8621\n",
      "Epoch 100/100\n",
      "8000/8000 [==============================] - 1s 144us/step - loss: 0.3371 - acc: 0.8629\n"
     ]
    },
    {
     "data": {
      "text/plain": [
       "<keras.callbacks.History at 0x7efecd4d2f28>"
      ]
     },
     "execution_count": 22,
     "metadata": {},
     "output_type": "execute_result"
    }
   ],
   "source": [
    "classifier.fit(X_train,Y_train,batch_size=10,epochs=100)"
   ]
  },
  {
   "cell_type": "code",
   "execution_count": 24,
   "metadata": {},
   "outputs": [],
   "source": [
    "# Predicting the Test set results\n",
    "y_pred = classifier.predict(X_test)\n",
    "y_pred = (y_pred > 0.5)\n",
    "\n",
    "# Making the Confusion Matrix\n",
    "from sklearn.metrics import confusion_matrix\n",
    "cm = confusion_matrix(Y_test, y_pred)"
   ]
  },
  {
   "cell_type": "code",
   "execution_count": 25,
   "metadata": {},
   "outputs": [
    {
     "data": {
      "text/plain": [
       "array([[False],\n",
       "       [False],\n",
       "       [False],\n",
       "       ...,\n",
       "       [False],\n",
       "       [False],\n",
       "       [False]])"
      ]
     },
     "execution_count": 25,
     "metadata": {},
     "output_type": "execute_result"
    }
   ],
   "source": [
    "y_pred"
   ]
  },
  {
   "cell_type": "code",
   "execution_count": 26,
   "metadata": {},
   "outputs": [
    {
     "data": {
      "text/plain": [
       "array([[1513,   82],\n",
       "       [ 191,  214]])"
      ]
     },
     "execution_count": 26,
     "metadata": {},
     "output_type": "execute_result"
    }
   ],
   "source": [
    "cm"
   ]
  },
  {
   "cell_type": "code",
   "execution_count": null,
   "metadata": {},
   "outputs": [],
   "source": []
  }
 ],
 "metadata": {
  "kernelspec": {
   "display_name": "Python 3",
   "language": "python",
   "name": "python3"
  },
  "language_info": {
   "codemirror_mode": {
    "name": "ipython",
    "version": 3
   },
   "file_extension": ".py",
   "mimetype": "text/x-python",
   "name": "python",
   "nbconvert_exporter": "python",
   "pygments_lexer": "ipython3",
   "version": "3.6.7"
  }
 },
 "nbformat": 4,
 "nbformat_minor": 2
}
